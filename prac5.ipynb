{
 "cells": [
  {
   "cell_type": "markdown",
   "id": "0ce7b8d7",
   "metadata": {},
   "source": [
    "# Learning Outcomes\n",
    "1) Geometric transformation\n",
    "a) rotation\n",
    "b) translation\n",
    "c) affine transformation\n",
    "d) perspective transformation\n",
    "2) Some basic drawing functions\n",
    "a) line\n",
    "b) circle\n",
    "c) ellipse\n",
    "d) rectangle\n",
    "e) text\n",
    "3) Bitwise operation\n",
    "a) OR\n",
    "b) XOR\n",
    "c) AND\n",
    "d) NOT\n",
    "4) Convolution: sliding window performing linear combination\n",
    "a) Image smoothing (denoising)\n",
    "b) Sharpening\n",
    "c) at the heart of CNN\n",
    "d) other effects"
   ]
  },
  {
   "cell_type": "markdown",
   "id": "9c4b0a75",
   "metadata": {},
   "source": [
    "# Set up"
   ]
  },
  {
   "cell_type": "code",
   "execution_count": 2,
   "id": "a8793c75",
   "metadata": {},
   "outputs": [],
   "source": [
    "import sys\n",
    "assert sys.version_info >=(3,7)\n",
    "\n",
    "import numpy as np\n",
    "import cv2 as cv\n",
    "from util_func import *"
   ]
  },
  {
   "cell_type": "markdown",
   "id": "9871e6ad",
   "metadata": {},
   "source": [
    "# Geometric transformation"
   ]
  },
  {
   "cell_type": "markdown",
   "id": "eb42fd1e",
   "metadata": {},
   "source": [
    "# Translation"
   ]
  },
  {
   "cell_type": "code",
   "execution_count": null,
   "id": "1153871d",
   "metadata": {},
   "outputs": [],
   "source": [
    "img=cv.imread(\"images/lena.jfif\")\n",
    "\n",
    "h,w=img.shape[:2]\n",
    "tx=50\n",
    "ty=100\n",
    "M=np.float32([[1,0,tx],[0,1,ty]])\n",
    "\n",
    "dest=cv.warpAffine(img,M,(w,h)) #rotation under Affine transformation\n",
    "\n",
    "show_img(f\"translation tx:{tx},ty:{ty}\",dest)"
   ]
  },
  {
   "cell_type": "markdown",
   "id": "5f562783",
   "metadata": {},
   "source": [
    "# Rotation"
   ]
  },
  {
   "cell_type": "code",
   "execution_count": null,
   "id": "63f46009",
   "metadata": {},
   "outputs": [],
   "source": [
    "#define M:center,angle and scale\n",
    "#(xc,yc),angle,1 => M (get M 1st)\n",
    "#define a center and rotate\n",
    "yc,xc=h//2,w//2 #get center\n",
    "\n",
    "angle=90 #anticlockwise(+) SAME AS angle=-70\n",
    "\n",
    "\n",
    "M=cv.getRotationMatrix2D((xc,yc),angle,1)\n",
    "dst=cv.warpAffine(img,M,(w,h))\n",
    "\n",
    "show_img(\"rotation\",dst)"
   ]
  },
  {
   "cell_type": "markdown",
   "id": "fb83dd5c",
   "metadata": {},
   "source": [
    "# Custom affine transform"
   ]
  },
  {
   "cell_type": "code",
   "execution_count": null,
   "id": "6f995db0",
   "metadata": {},
   "outputs": [],
   "source": [
    "#combination of rotation and translation\n",
    "img=cv.imread(\"images/chessboard.png\")\n",
    "img=cv.cvtColor(img,cv.COLOR_BGR2RGB)\n",
    "img_copy=img.copy()\n",
    "\n",
    "h,w=img.shape[:2]\n",
    "\n",
    "p0=np.float32([[25,25],[100,25],[25,100]]) #25,25 =75,75\n",
    "p1=np.float32([[75,75],[150,85],[85,150]])\n",
    "\n",
    "for pt in p0:\n",
    "    cv.circle(img,(int(pt[0]),int(pt[1])),1,(0,0,255),-1) ##come to coordination float->int\n",
    "    \n",
    "M=cv.getAffineTransform(p0,p1) #p0=>p1\n",
    "dst=cv.warpAffine(img,M,(w,h))\n",
    "\n",
    "plt.subplot(121),plt_img(img,title=\"original\")\n",
    "plt.subplot(122),plt_img(dst,title=\"affine\")\n",
    "plt.show()"
   ]
  },
  {
   "cell_type": "code",
   "execution_count": null,
   "id": "009369d2",
   "metadata": {},
   "outputs": [],
   "source": [
    "dst[75,75,:]"
   ]
  },
  {
   "cell_type": "code",
   "execution_count": null,
   "id": "e5775924",
   "metadata": {},
   "outputs": [],
   "source": [
    "dst[150,85,:]"
   ]
  },
  {
   "cell_type": "code",
   "execution_count": null,
   "id": "4c092928",
   "metadata": {},
   "outputs": [],
   "source": [
    "\n",
    "dst_new = cv.warpAffine(img_copy,M,(w+75,h+75))\n",
    "\n",
    "plt_img(dst_new)"
   ]
  },
  {
   "cell_type": "code",
   "execution_count": null,
   "id": "29abe58a",
   "metadata": {},
   "outputs": [],
   "source": [
    "#inverse to get back original\n",
    "M_inv=cv.getAffineTransform(p1,p0)\n",
    "ori_restorted=cv.warpAffine(dst_new,M_inv,(w,h))\n",
    "\n",
    "plt_img(ori_restorted)"
   ]
  },
  {
   "cell_type": "markdown",
   "id": "2c04c5fe",
   "metadata": {},
   "source": [
    "# Perspective transform"
   ]
  },
  {
   "cell_type": "code",
   "execution_count": null,
   "id": "66a11972",
   "metadata": {},
   "outputs": [],
   "source": [
    "#get things from top\n",
    "img=cv.imread(\"images/name_card_sample.webp\")\n",
    "img_copy=img.copy()\n",
    "show_img(\"img\",img,adjust=True)"
   ]
  },
  {
   "cell_type": "code",
   "execution_count": null,
   "id": "24ddb41d",
   "metadata": {},
   "outputs": [],
   "source": [
    "#get 4 points\n",
    "p=[]\n",
    "\n",
    "def mouse(event,x,y,flags,params):\n",
    "    if event==cv.EVENT_LBUTTONDOWN:\n",
    "        print((x,y))\n",
    "        p.append((x,y)) #self add point\n",
    "        cv.circle(img,(x,y),2,(0,0,255),-1)\n",
    "        cv.imshow(\"img\",img)\n",
    "        \n",
    "cv.imshow(\"img\",img)\n",
    "cv.setMouseCallback(\"img\",mouse)\n",
    "cv.waitKey(0)\n",
    "cv.destroyAllWindows()"
   ]
  },
  {
   "cell_type": "code",
   "execution_count": null,
   "id": "33166a40",
   "metadata": {},
   "outputs": [],
   "source": [
    "!pip install scipy"
   ]
  },
  {
   "cell_type": "code",
   "execution_count": null,
   "id": "c93e1801",
   "metadata": {},
   "outputs": [],
   "source": [
    "from scipy.spatial.distance import euclidean"
   ]
  },
  {
   "cell_type": "code",
   "execution_count": null,
   "id": "39bd980a",
   "metadata": {},
   "outputs": [],
   "source": [
    "w1=euclidean(p[0],p[1])\n",
    "w2=euclidean(p[2],p[3])\n",
    "\n",
    "h1=euclidean(p[0],p[3])\n",
    "h2=euclidean(p[1],p[2])\n",
    "\n",
    "W=max(w1,w2)\n",
    "H=max(h1,h2)\n",
    "\n",
    "p_arr=np.float32(p) #change to float\n",
    "dst=np.float32([[0,0],[W-1,0],[W-1,H-1],[0,H-1]])\n",
    "\n",
    "M=cv.getPerspectiveTransform(p_arr,dst)\n",
    "warp=cv.warpPerspective(img_copy,M,(int(W),int(H)))\n",
    "\n",
    "cv.namedWindow(\"img\",cv.WINDOW_NORMAL)\n",
    "cv.imshow(\"img\",img_copy)\n",
    "show_img(\"warp\",warp)\n",
    "                        "
   ]
  },
  {
   "cell_type": "markdown",
   "id": "eb0edada",
   "metadata": {},
   "source": [
    "# Drawing functions"
   ]
  },
  {
   "cell_type": "code",
   "execution_count": null,
   "id": "bd0d17b7",
   "metadata": {},
   "outputs": [],
   "source": [
    "#line\n",
    "img=cv.imread(\"images/dog.jfif\")\n",
    "\n",
    "print(img.shape)"
   ]
  },
  {
   "cell_type": "code",
   "execution_count": null,
   "id": "10ff1989",
   "metadata": {},
   "outputs": [],
   "source": [
    "img_copy=img.copy()\n",
    "\n",
    "#draw a line on the img (30,80):starting point ending point:(150,150) color:(0,0,255)\n",
    "cv.line(img_copy,(30,80),(150,150),(0,0,255),4,cv.LINE_AA)\n",
    "show_img(\"line\",img_copy)"
   ]
  },
  {
   "cell_type": "code",
   "execution_count": null,
   "id": "80a17390",
   "metadata": {},
   "outputs": [],
   "source": [
    "#circle\n",
    "\n",
    "img_copy=img.copy()\n",
    "\n",
    "#draw a line on the img (145,50):center of circle\n",
    "cv.circle(img_copy,(145,50),40,(0,0,255),2,cv.LINE_AA)\n",
    "show_img(\"circle\",img_copy)"
   ]
  },
  {
   "cell_type": "code",
   "execution_count": null,
   "id": "667787fb",
   "metadata": {},
   "outputs": [],
   "source": [
    "#ellipse\n",
    "\n",
    "img_copy=img.copy()\n",
    "axes=(50,25) #ellipse de size\n",
    "angle=90 #vertical circle\n",
    "\n",
    "#draw a line on the img (145,50):center of circle\n",
    "cv.ellipse(img_copy,(145,50),axes,angle,0,360,(100,0,100),2,cv.LINE_AA)\n",
    "show_img(\"ellipse\",img_copy)"
   ]
  },
  {
   "cell_type": "code",
   "execution_count": null,
   "id": "d48af179",
   "metadata": {},
   "outputs": [],
   "source": [
    "#rectangle\n",
    "\n",
    "img_copy=img.copy()\n",
    "axes=(50,25) #ellipse de size\n",
    "angle=90 #vertical circle da zhi\n",
    "\n",
    "#draw a line on the img (145,50):center of circle\n",
    "cv.rectangle(img_copy,(30,80),(150,150),(0,0,255),4,cv.LINE_AA)\n",
    "show_img(\"rectangle\",img_copy)"
   ]
  },
  {
   "cell_type": "code",
   "execution_count": null,
   "id": "c9c86161",
   "metadata": {},
   "outputs": [],
   "source": [
    "#text\n",
    "\n",
    "img_copy=img.copy()\n",
    "\n",
    "#draw a line on the img (145,50):center of circle\n",
    "cv.putText(img_copy,\"I am a happy dog!\",(15,145),cv.FONT_HERSHEY_SIMPLEX,0.65,(200,0,50),2)\n",
    "show_img(\"font\",img_copy)"
   ]
  },
  {
   "cell_type": "markdown",
   "id": "c17a5fbb",
   "metadata": {},
   "source": [
    "# Create a custom drawing board\n",
    "Trackbar function, mouse callback fucntion.\n",
    "-use GUI function provided by cv to draw"
   ]
  },
  {
   "cell_type": "code",
   "execution_count": null,
   "id": "2a3749ad",
   "metadata": {},
   "outputs": [],
   "source": [
    "WHITE=(255,255,255)\n",
    "RED=(0,0,255)\n",
    "GREEN=(0,255,0)\n",
    "BLUE=(255,0,0)\n",
    "\n",
    "CYAN=(255,255,0)\n",
    "MAGENTA=(255,0,255)\n",
    "YELLOW=(0,255,255)\n",
    "\n",
    "colors=(RED,GREEN,BLUE,CYAN,MAGENTA,YELLOW,WHITE)\n",
    "\n",
    "#create a trackbar function, mouse callback function, while loop to show the templates\n",
    "#trackbar\n",
    "def nothing(x): #track value froom trackbar\n",
    "    pass\n",
    "\n",
    "p0=p1=(0,0)\n",
    "\n",
    "#mouse callback function\n",
    "def mouse(event,x,y,flags,params):\n",
    "    global p0,p1\n",
    "    if event==cv.EVENT_LBUTTONDOWN:\n",
    "        p0=(x,y)\n",
    "    \n",
    "    elif event==cv.EVENT_LBUTTONUP:\n",
    "        p1=(x,y)\n",
    "        \n",
    "        d=cv.getTrackbarPos(trackbar1_name,windowname)\n",
    "        if d==0:\n",
    "            d=1\n",
    "        i=cv.getTrackbarPos(trackbar2_name,windowname)\n",
    "        color=colors[i]\n",
    "        cv.rectangle(img,p0,p1,color,d)\n",
    "        cv.imshow(windowname,img)\n",
    "        \n",
    "windowname=\"window\"\n",
    "trackbar1_name=\"thickness\"\n",
    "trackbar2_name=\"color\"\n",
    "img=np.zeros((400,400,3),dtype=np.uint8)\n",
    "cv.namedWindow(windowname)\n",
    "cv.createTrackbar(trackbar1_name,windowname,0,10,nothing)\n",
    "cv.createTrackbar(trackbar2_name,windowname,0,6,nothing)\n",
    "cv.setMouseCallback(windowname,mouse)\n",
    "\n",
    "while(1):\n",
    "    cv.imshow(windowname,img)\n",
    "    k=cv.waitKey(1) & 0xFF\n",
    "    if k==27:\n",
    "        break\n",
    "    if k==ord('c'):\n",
    "        img[:]=0\n",
    "        \n",
    "cv.destroyAllWindows()"
   ]
  },
  {
   "cell_type": "code",
   "execution_count": null,
   "id": "ae5f4d39",
   "metadata": {},
   "outputs": [],
   "source": [
    "#create bulleye\n",
    "#change is radius, fixed is center of the circle\n",
    "\n",
    "img=np.zeros((400,400),dtype=np.uint8)\n",
    "\n",
    "yc,xc=img.shape[0]//2, img.shape[1]//2\n",
    "radius=np.arange(20,200,15)\n",
    "\n",
    "for r in radius:\n",
    "    #draw circle\n",
    "    cv.circle(img,(xc,yc),r,255,2)\n",
    "\n",
    "cv.putText(img,\"Bulleye\",(20,375),cv.FONT_HERSHEY_SIMPLEX,0.65,255,2)\n",
    "\n",
    "show_img(\"img\",img)"
   ]
  },
  {
   "cell_type": "markdown",
   "id": "f50cfd5b",
   "metadata": {},
   "source": [
    "# Bitwise Operation"
   ]
  },
  {
   "cell_type": "code",
   "execution_count": null,
   "id": "9ecfffe5",
   "metadata": {},
   "outputs": [],
   "source": [
    "rect=np.zeros((400,400),np.uint8)\n",
    "rect[30:370,30:370]=255\n",
    "\n",
    "circle=np.zeros((400,400),np.uint8)\n",
    "cv.circle(circle,(200,200),200,255,-1)\n",
    "\n",
    "cv.imshow(\"rectangle\",rect)\n",
    "show_img(\"circle\",circle)"
   ]
  },
  {
   "cell_type": "code",
   "execution_count": null,
   "id": "086277df",
   "metadata": {},
   "outputs": [],
   "source": [
    "#AND (intersact)\n",
    "res_AND=cv.bitwise_and(rect,circle)\n",
    "show_img(\"AND\",res_AND)"
   ]
  },
  {
   "cell_type": "code",
   "execution_count": null,
   "id": "ab1cbec2",
   "metadata": {},
   "outputs": [],
   "source": [
    "#OR (show all)\n",
    "res_OR=cv.bitwise_or(rect,circle)\n",
    "show_img(\"OR\",res_OR)"
   ]
  },
  {
   "cell_type": "code",
   "execution_count": null,
   "id": "a00dbea5",
   "metadata": {},
   "outputs": [],
   "source": [
    "#XOR (exclusive)\n",
    "res_XOR=cv.bitwise_xor(rect,circle)\n",
    "show_img(\"XOR\",res_XOR)"
   ]
  },
  {
   "cell_type": "code",
   "execution_count": null,
   "id": "d98a982d",
   "metadata": {},
   "outputs": [],
   "source": [
    "#NOT (only for 1 image)(color of the image dao fan)\n",
    "res_not=cv.bitwise_not(rect)\n",
    "show_img(\"NOT\",res_not)"
   ]
  },
  {
   "cell_type": "code",
   "execution_count": null,
   "id": "58ff0583",
   "metadata": {},
   "outputs": [],
   "source": [
    "img=cv.imread(\"images/dog.jfif\")\n",
    "\n",
    "h,w=img.shape[:2]\n",
    "\n",
    "# create a mask and can do bitwise operation on the mask\n",
    "mask=np.zeros((h,w),dtype=np.uint8)\n",
    "\n",
    "#do operation on the mask\n",
    "cv.circle(mask,(140,50),40,255,-1)\n",
    "\n",
    "res=cv.bitwise_and(img,img,mask=mask)\n",
    "\n",
    "show_img(\"res\",res)"
   ]
  },
  {
   "cell_type": "markdown",
   "id": "2d994533",
   "metadata": {},
   "source": [
    "# Convolution "
   ]
  },
  {
   "cell_type": "code",
   "execution_count": 2,
   "id": "d74b5a86",
   "metadata": {},
   "outputs": [],
   "source": [
    "#use kernel to perform convolution\n",
    "\n",
    "#identify kernel\n",
    "#define kernel\n",
    "\n",
    "img=cv.imread(\"images/opencv_logo.png\")\n",
    "\n",
    "kernel = np.zeros((3,3))\n",
    "kernel[1,1]=1\n",
    "#print(kernel)\n",
    "\n",
    "dst=cv.filter2D(img,-1,kernel)\n",
    "\n",
    "cv.imshow(\"original\",img)\n",
    "show_img(\"identity\",dst)"
   ]
  },
  {
   "cell_type": "code",
   "execution_count": 5,
   "id": "eb8c261e",
   "metadata": {},
   "outputs": [],
   "source": [
    "#sharpen the orginal image\n",
    "\n",
    "#sharpening kernel\n",
    "kernel =np.array([[0,-1,0],[-1,5,-1],[0,-1,0]])\n",
    "\n",
    "img=cv.imread(\"images/dog.jfif\")\n",
    "dst=cv.filter2D(img,-1,kernel)\n",
    "\n",
    "cv.imshow(\"original\",img)\n",
    "show_img(\"sharpen\",dst)"
   ]
  },
  {
   "cell_type": "code",
   "execution_count": 6,
   "id": "ad608e50",
   "metadata": {},
   "outputs": [],
   "source": [
    "#blurred kernel\n",
    "\n",
    "#get the blur from the formula \n",
    "#blur\n",
    "kernel=np.ones((5,5))/25\n",
    "\n",
    "blur=cv.filter2D(img,-1,kernel)\n",
    "\n",
    "#get blur from the formula (1.6 orginal,-0.6 blur) #look at the photo amount:0.6\n",
    "dst=cv.addWeighted(img,1.6,blur,-0.6,0)\n",
    "\n",
    "show_img(\"unsharp_masking\",dst)"
   ]
  },
  {
   "cell_type": "markdown",
   "id": "eaeb2c67",
   "metadata": {},
   "source": [
    "# 4 ways to perform image blurring"
   ]
  },
  {
   "cell_type": "markdown",
   "id": "ff0928e3",
   "metadata": {},
   "source": [
    "4 fucntions to perform image blurring:\n",
    "- cv.blur: mean average filter (1/5 | 1/25)\n",
    "- cv.GaussianBlur: Gaussian filter, suitable for gaussian noise\n",
    "- cv.medianFilter: median filter, useful to eliminate salt and pepper noise\n",
    "- cv.bilateralFilter: edge-preserving filter\n",
    "\n",
    "we do is cv.filter2D"
   ]
  },
  {
   "cell_type": "markdown",
   "id": "2716d801",
   "metadata": {},
   "source": [
    "# Adding watermark"
   ]
  },
  {
   "cell_type": "code",
   "execution_count": null,
   "id": "8ace442e",
   "metadata": {},
   "outputs": [],
   "source": [
    "watermark=cv.imread(\"Picture1.png\")\n",
    "\n",
    "show_img(\"watermark\",watermark)"
   ]
  },
  {
   "cell_type": "code",
   "execution_count": null,
   "id": "14777d52",
   "metadata": {},
   "outputs": [],
   "source": [
    "watermark.shape"
   ]
  },
  {
   "cell_type": "code",
   "execution_count": null,
   "id": "12cf887a",
   "metadata": {},
   "outputs": [],
   "source": [
    "img=cv.imread(\"images/travel_hd.jpg\")\n",
    "\n",
    "img.shape"
   ]
  },
  {
   "cell_type": "code",
   "execution_count": null,
   "id": "513d3f03",
   "metadata": {},
   "outputs": [],
   "source": [
    "#overlay have same dimension with img but in 0\n",
    "overlay=np.zeros_like(img)\n",
    "\n",
    "#get height and width\n",
    "h,w=img.shape[:2]\n",
    "hW,wW=watermark.shape[:2]\n",
    "\n",
    "overlay[h-hW-15:h-15,15:15+wW]=watermark #location of the watermark"
   ]
  },
  {
   "cell_type": "code",
   "execution_count": null,
   "id": "14752e05",
   "metadata": {},
   "outputs": [],
   "source": [
    "#add watermark into the img\n",
    "watermarked_img=cv.addWeighted(img,1,overlay,0.4,0)\n",
    "\n",
    "show_img(\"watermark\",watermarked_img,adjust=True)"
   ]
  },
  {
   "cell_type": "markdown",
   "id": "55c6df15",
   "metadata": {},
   "source": [
    "# Exercises:"
   ]
  },
  {
   "cell_type": "code",
   "execution_count": null,
   "id": "d26bf2a5",
   "metadata": {},
   "outputs": [],
   "source": [
    "#Q1\n",
    "!pip install imutils"
   ]
  },
  {
   "cell_type": "code",
   "execution_count": null,
   "id": "6ee2f36a",
   "metadata": {},
   "outputs": [],
   "source": [
    "#Q1\n",
    "import imutils\n",
    "\n",
    "img=cv.imread(\"images/lena.jfif\")\n",
    "#rotating an image without cropping the sides of the image\n",
    "rotated_image_expanded = imutils.rotate_bound(img, angle=45)\n",
    "cv.imshow(\"Rotated_Image\", rotated_image_expanded)\n",
    "cv.waitKey(0)\n",
    "cv.destroyAllWindows()"
   ]
  },
  {
   "cell_type": "code",
   "execution_count": null,
   "id": "c92d3489",
   "metadata": {},
   "outputs": [],
   "source": [
    "#Q2\n",
    "flower=cv.imread(\"images/flower.jfif\")\n",
    "bee=cv.imread(\"images/native-bee.png\")\n",
    "\n",
    "h, w = flower.shape[:2]\n",
    "\n",
    "#Converting the flower image to grayscale\n",
    "gray_flower = cv.cvtColor(img,cv.COLOR_BGR2GRAY)\n",
    "\n",
    "#create a binary mask from the grayscale flower image\n",
    "#the binary mask separates the flower region from the background based on a threshold value\n",
    "res, mask = cv.threshold(gray_flower, 80, 255, cv.THRESH_BINARY)\n",
    "\n",
    "#mask created to use to blacken the region of interest from bee image\n",
    "inv_mask = cv.bitwise_not(mask)\n",
    "\n",
    "#extract the flower image with the created mask\n",
    "extracted_flower=cv.bitwise_and(flower,flower,mask=mask)\n",
    "\n",
    "#region of interest from bee image where the flower will be located\n",
    "region = bee[0:h, 0:w]\n",
    "\n",
    "#to blacken the region where the flower will be located in the bee image.\n",
    "blacken_region = cv.bitwise_and(region, region, mask=inv_mask)\n",
    "\n",
    "#overlay 2 images\n",
    "combined_img=cv.addWeighted(extracted_flower,1,blacken_region,1,0)\n",
    "bee[0:h, 0:w] =combined_img\n",
    "show_img(\"combined_image\",bee)\n",
    "cv.waitKey(0)\n",
    "cv.destroyAllWindows()"
   ]
  },
  {
   "cell_type": "code",
   "execution_count": null,
   "id": "bf6b0508",
   "metadata": {},
   "outputs": [],
   "source": [
    "#Q3\n",
    "\n",
    "img=cv.imread(\"images/native-bee.png\")\n",
    "\n",
    "#2 different custom sharpening kernels\n",
    "kernel3x3 = np.array([[0,-1,0],\n",
    "                   [-1,5,-1],\n",
    "                   [0,-1,0]])\n",
    "\n",
    "kernel5x5 = np.array([[-1,-1,-1,-1,-1],\n",
    "                   [-1,-1,-1,-1,-1],\n",
    "                   [-1,-1,25,-1,-1],\n",
    "                   [-1,-1,-1,-1,-1],\n",
    "                   [-1,-1,-1,-1,-1]])\n",
    "\n",
    "dst1=cv.filter2D(img,-1,kernel3x3)\n",
    "dst2=cv.filter2D(img,-1,kernel5x5)\n",
    "\n",
    "cv.imshow(\"original\",img)\n",
    "show_img(\"kernel3x3\",dst1)\n",
    "show_img(\"kernel5x5\",dst2)\n",
    "\n",
    "#The kernel3x3 with central weight 5 while kernel5x5 with central weight 25\n",
    "#The higher central weight and larger kernel size make the sharpening effect more pronounced\n",
    "# The kernel5x5 gives a stronger sharpening effect compared to kernel3x3"
   ]
  },
  {
   "cell_type": "code",
   "execution_count": null,
   "id": "8e8a5578",
   "metadata": {},
   "outputs": [],
   "source": [
    "#Q4\n",
    "\n",
    "img=cv.imread(\"images/noise_lena.jpg\")\n",
    "\n",
    "#kernel 3x3 is used\n",
    "average_filter = cv.blur(img, (3, 3))\n",
    "gaussian_kernel = cv.GaussianBlur(img, (3, 3), 0)\n",
    "median_filter = cv.medianBlur(img, 3)\n",
    "\n",
    "cv.imshow(\"Original Image\", img)\n",
    "cv.imshow(\"average filter\", average_filter)\n",
    "cv.imshow(\"Gaussian kernel\", gaussian_kernel)\n",
    "cv.imshow(\"median filter\", median_filter)\n",
    "\n",
    "cv.waitKey(0)\n",
    "cv.destroyAllWindows()\n",
    "\n",
    "# average filter and guassian filter reduce high-frequency of random noise while median filter are remove the random noise effectively.\n",
    "# average filter: reduce some noise but blurs the image.\n",
    "# guassian kernel: better reduce the random noise. Do not blur the image but preserve the edges and details of the image.\n",
    "# median filter: effectively reduce the random noise and remove the isolated noise pixel while also preserving the edges and fine details of the image."
   ]
  }
 ],
 "metadata": {
  "kernelspec": {
   "display_name": "Python 3 (ipykernel)",
   "language": "python",
   "name": "python3"
  },
  "language_info": {
   "codemirror_mode": {
    "name": "ipython",
    "version": 3
   },
   "file_extension": ".py",
   "mimetype": "text/x-python",
   "name": "python",
   "nbconvert_exporter": "python",
   "pygments_lexer": "ipython3",
   "version": "3.11.4"
  }
 },
 "nbformat": 4,
 "nbformat_minor": 5
}
