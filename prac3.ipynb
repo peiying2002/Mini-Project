{
 "cells": [
  {
   "cell_type": "markdown",
   "id": "31d825f9",
   "metadata": {},
   "source": [
    "# Learning Outcomes\n",
    "1) Load, display, and save images\n",
    "2) Load, show and save videos\n",
    "3) Resize images"
   ]
  },
  {
   "cell_type": "markdown",
   "id": "f7560a00",
   "metadata": {},
   "source": [
    "# Why OpenCV?\n",
    "-Compatible in multiple MAJOR OS, like windows, Linux and MAcOS, can be written in different languages:C++, Python and Java\n",
    "-Interoperable with Numpy modules, thereby faster computation of image array\n",
    "-Large community support, a lot of resources (articles and stackoverflow posts.)"
   ]
  },
  {
   "cell_type": "markdown",
   "id": "348c0fc5",
   "metadata": {},
   "source": [
    "## Image formats\n",
    "-JPEG (.jpg, .jpeg, .jfif)\n",
    "    -photos taken from camera\n",
    "-JPG (.png)\n",
    "    -website, larger file size compared to jpeg\n",
    "-tiff (.tif)\n",
    "    -high-quality printing, larger file size\n",
    "-bmp (.bmp)\n",
    "    -multiple uses, large file size.\n",
    "-GIF (.gif) (OpenCV cannot deal with this format）\n",
    "    -animations, shallow color depth.\n",
    "-webp (.webp)\n",
    "    -smaller file size compared to JPEG and PNG, IE 11 not supported."
   ]
  },
  {
   "cell_type": "markdown",
   "id": "df00b05d",
   "metadata": {},
   "source": [
    "# Setup"
   ]
  },
  {
   "cell_type": "code",
   "execution_count": 1,
   "id": "6847b389",
   "metadata": {},
   "outputs": [],
   "source": [
    "import sys\n",
    "# at least python 3.7 \n",
    "assert sys.version_info >=(3,7)\n",
    "\n",
    "import numpy as np\n",
    "import cv2 as cv"
   ]
  },
  {
   "cell_type": "code",
   "execution_count": 2,
   "id": "c4f94f78",
   "metadata": {},
   "outputs": [
    {
     "name": "stdout",
     "output_type": "stream",
     "text": [
      "4.8.0\n"
     ]
    }
   ],
   "source": [
    "#check Opencv version\n",
    "print (cv.__version__)"
   ]
  },
  {
   "cell_type": "markdown",
   "id": "b5ff5cb6",
   "metadata": {},
   "source": [
    "# Load and show the image"
   ]
  },
  {
   "cell_type": "code",
   "execution_count": null,
   "id": "42d298c7",
   "metadata": {},
   "outputs": [],
   "source": [
    "img = cv.imread(\"images/lena.jfif\")\n",
    "#second argument: 1 (default), 0 (grayscale), -1(cv.IMREAD_UNCHANGED)\n",
    "grayscale=cv.imread(\"images/lena.jfif\",0)\n",
    "\n",
    "cv.imshow(\"lena_color\",img)\n",
    "cv.imshow(\"lena_grayscale\",grayscale)\n",
    "cv.waitKey(0)    # key binding function: wait for user response\n",
    "cv.destroyAllWindows()"
   ]
  },
  {
   "cell_type": "code",
   "execution_count": 4,
   "id": "cc020ea9",
   "metadata": {},
   "outputs": [],
   "source": [
    "def show_img(window_name,img):\n",
    "    \"\"\"2 arguments: window name and image\"\"\"\n",
    "    cv.imshow(window_name,img)\n",
    "    cv.waitKey(0)    # key binding function: wait for user response\n",
    "    cv.destroyAllWindows()"
   ]
  },
  {
   "cell_type": "code",
   "execution_count": null,
   "id": "ec005479",
   "metadata": {},
   "outputs": [],
   "source": [
    "#png\n",
    "img = cv.imread(\"images/lena.png\")\n",
    "\n",
    "show_img(\"lena\",img)"
   ]
  },
  {
   "cell_type": "code",
   "execution_count": null,
   "id": "e3ad14d0",
   "metadata": {
    "scrolled": false
   },
   "outputs": [],
   "source": [
    "#difference between jpeg and png\n",
    "img_jpeg= cv.imread(\"images/lena.jfif\",-1)\n",
    "img_png= cv.imread(\"images/lena.png\",-1)\n",
    "\n",
    "print(f\"shape of jpeg image:{img_jpeg.shape}\")\n",
    "print(f\"shape of png image:{img_png.shape}\")"
   ]
  },
  {
   "cell_type": "markdown",
   "id": "d3f84203",
   "metadata": {},
   "source": [
    "# GIF\n",
    "import new modules"
   ]
  },
  {
   "cell_type": "code",
   "execution_count": null,
   "id": "24bb3cab",
   "metadata": {},
   "outputs": [],
   "source": [
    "!pip install imageio\n",
    "import imageio"
   ]
  },
  {
   "cell_type": "code",
   "execution_count": null,
   "id": "bcc55da2",
   "metadata": {},
   "outputs": [],
   "source": [
    "#Originally: RGB but OpenCV imported as BGR so line 5 need to RGB to BGR to let openCV read\n",
    "#gif (a list of images)\n",
    "GIF = imageio.mimread(\"Images/rotating_earth_large.gif\")\n",
    "#change to BGR from RGB (change one by one for the list of image)\n",
    "imgs = [cv.cvtColor(img,cv.COLOR_RGB2BGR) for img in GIF]\n",
    "\n",
    "#show_img(\"gif\",imgs[0]) #no move just show 1 image\n",
    "for img in imgs: # to move\n",
    "    cv.imshow(\"GIF\",img)\n",
    "    cv.waitKey(200) # it wait for 0.2s to receive input from us then proceeed and go on\n",
    "cv.destroyAllWindows()"
   ]
  },
  {
   "cell_type": "markdown",
   "id": "4b67d6b4",
   "metadata": {},
   "source": [
    "# save images\n",
    "cv.imwrite(filepath,img)"
   ]
  },
  {
   "cell_type": "code",
   "execution_count": null,
   "id": "50fc2590",
   "metadata": {},
   "outputs": [],
   "source": [
    "# eventhough cannot find the image but still can run and no error\n",
    "img=cv.imread(\"lena.jfif\")\n",
    "#img=cv.imread(cv.samples.findFile(\"lena.jfif\"))"
   ]
  },
  {
   "cell_type": "code",
   "execution_count": null,
   "id": "1dab2f4a",
   "metadata": {},
   "outputs": [],
   "source": [
    "img"
   ]
  },
  {
   "cell_type": "code",
   "execution_count": null,
   "id": "56afaf07",
   "metadata": {},
   "outputs": [],
   "source": [
    "# a more formalized approach (prevent the above issue)\n",
    "img=cv.imread(cv.samples.findFile(\"images/lena.jfif\"))\n",
    "\n",
    "if img is None:\n",
    "    sys.exit(\"Not a valid filepath\")\n",
    "    \n",
    "cv.imshow(\"img\",img)\n",
    "k=cv.waitKey(0) & 0x8F #0x8F??\n",
    "if(k==115): #press \"s\" button to save || ascii \"s\"=115 ||if(k==ord('s'))\n",
    "    cv.imwrite(\"lena_save.jpg\",img) #save to lena_save.jpg\n",
    "cv.destroyAllWindows()"
   ]
  },
  {
   "cell_type": "markdown",
   "id": "1d019841",
   "metadata": {},
   "source": [
    "## Same operations on videos\n",
    "load and show videos"
   ]
  },
  {
   "cell_type": "code",
   "execution_count": null,
   "id": "c4a60ba4",
   "metadata": {},
   "outputs": [],
   "source": [
    "cap=cv.VideoCapture(\"videos/img_pexels.mp4\")\n",
    "\n",
    "#check is it received the file or not\n",
    "if not cap.isOpened:\n",
    "    sys.exit(\"No video file found\")\n",
    "    \n",
    "# fixed the frame to the windows\n",
    "cv.namedWindow(\"frame\",cv.WINDOW_NORMAL)\n",
    "\n",
    "#loop through all the images sequences and display\n",
    "while True: #frame is a way to call image in video\n",
    "    ret,frame= cap.read()\n",
    "    \n",
    "    if not ret: #ret is a boolean and if it is FALSE\n",
    "        print(\"No frame received!\")\n",
    "        break #break the while loop\n",
    "    #\n",
    "    cv.imshow(\"frame\",frame)\n",
    "    k=cv.waitKey(1) & 0xFF\n",
    "    if k==27: # press \"esc\"\n",
    "        break\n",
    "\n",
    "cap.release()\n",
    "cv.destroyAllWindows()"
   ]
  },
  {
   "cell_type": "code",
   "execution_count": null,
   "id": "b0582eee",
   "metadata": {},
   "outputs": [],
   "source": [
    "## WebCam\n",
    "cap=cv.VideoCapture(0) # no path as for webcam\n",
    "\n",
    "if not cap.isOpened():\n",
    "    sys.exit(\"No Webcam found\")\n",
    "\n",
    "#save video object\n",
    "#arguments: filepath, fourcc, fps, width, and height\n",
    "#fourcc is an ID for algorithms to compress or decompress\n",
    "fourcc = cv.VideoWriter_fourcc (\"M\",\"J\",\"P\",\"G\")\n",
    "fps=15\n",
    "w,h = int(cap.get(3)),int(cap.get(4))\n",
    "out= cv.VideoWriter(\"videos/out.avi\",fourcc, fps,(w,h))\n",
    "\n",
    "while True:\n",
    "    ret,frame= cap.read()\n",
    "    \n",
    "    if not ret:\n",
    "        print(\"No frame received!\")\n",
    "        break\n",
    "    \n",
    "    out.write(frame)\n",
    "    cv.imshow(\"frame\",frame)\n",
    "    k=cv.waitKey(1) & 0xFF\n",
    "    if k==27:\n",
    "        break\n",
    "\n",
    "cap.release()\n",
    "out.release()\n",
    "cv.destroyAllWindows()\n"
   ]
  },
  {
   "cell_type": "code",
   "execution_count": null,
   "id": "a3f9df67",
   "metadata": {},
   "outputs": [],
   "source": [
    "import time"
   ]
  },
  {
   "cell_type": "code",
   "execution_count": null,
   "id": "f57b2fb0",
   "metadata": {},
   "outputs": [],
   "source": [
    "cap=cv.VideoCapture(\"videos/img_pexels.mp4\")\n",
    "\n",
    "if not cap.isOpened:\n",
    "    sys.exit(\"No video file found\")\n",
    "    \n",
    "# fixed the frame to the windows\n",
    "cv.namedWindow(\"frame\",cv.WINDOW_NORMAL)\n",
    "start=time.time()\n",
    "while True: #frame is a way to call image in video\n",
    "    ret,frame= cap.read()\n",
    "    \n",
    "    if not ret:\n",
    "        print(\"No frame received!\")\n",
    "        break\n",
    "    cv.imshow(\"frame\",frame)\n",
    "    k=cv.waitKey(1) & 0xFF\n",
    "    if k==27:\n",
    "        break\n",
    "\n",
    "end=time.time()\n",
    "#cap.release()\n",
    "cv.destroyAllWindows()"
   ]
  },
  {
   "cell_type": "code",
   "execution_count": null,
   "id": "049efc3b",
   "metadata": {},
   "outputs": [],
   "source": [
    "print(f\"The actual frame rate form the file:{cap.get(6)}\")\n",
    "n_frames = cap.get(7)\n",
    "print(f\"The fps if stream using OpenCV:{n_frames/(end-start)}\")"
   ]
  },
  {
   "cell_type": "markdown",
   "id": "dbd0e911",
   "metadata": {},
   "source": [
    "# Image  resizing\n",
    "\n",
    "There are 2 methods:\n",
    "1) set arbitary dimensio (w,h)\n",
    "2) scale factor\n"
   ]
  },
  {
   "cell_type": "code",
   "execution_count": null,
   "id": "903533ee",
   "metadata": {},
   "outputs": [],
   "source": [
    "# method 1 \n",
    "img = cv.imread(\"images/soccer.jpg\")\n",
    "new_height =300\n",
    "new_width = 450\n",
    "\n",
    "#third argument:fx, fourth argument:fy, 5th:interpolation methods (default:bilinear)\n",
    "img_resize= cv.resize(img,(new_height,new_width))\n",
    "\n",
    "cv.imshow(\"original\",img)\n",
    "#show_img(\"original\",img)\n",
    "show_img(\"resize\",img_resize)\n"
   ]
  },
  {
   "cell_type": "code",
   "execution_count": null,
   "id": "2408bbf2",
   "metadata": {},
   "outputs": [],
   "source": [
    "img.shape"
   ]
  },
  {
   "cell_type": "code",
   "execution_count": null,
   "id": "3f8a2a24",
   "metadata": {},
   "outputs": [],
   "source": [
    "# method 2\n",
    "\n",
    "img = cv.imread(\"images/lena.jfif\")\n",
    "\n",
    "# new height and width are none (no arbitary size)\n",
    "img_resize = cv.resize(img, None, fx=1.5, fy=1.5)\n",
    "cv.imshow(\"original\",img)\n",
    "show_img(\"resize\",img_resize)"
   ]
  },
  {
   "cell_type": "markdown",
   "id": "a61642bf",
   "metadata": {},
   "source": [
    "# Exercises: "
   ]
  },
  {
   "cell_type": "code",
   "execution_count": null,
   "id": "86cbdeba",
   "metadata": {},
   "outputs": [],
   "source": [
    "#Q1\n",
    "\n",
    "img=cv.imread(cv.samples.findFile(\"images/dog.jfif\"))\n",
    "\n",
    "if img is None:\n",
    "    sys.exit(\"Not a valid filepath\")\n",
    "    \n",
    "cv.imshow(\"img\",img)\n",
    "k=cv.waitKey(0) & 0x8F \n",
    "if(k==115): #press \"s\" button to save || ascii \"s\"=115 ||if(k==ord('s'))\n",
    "    cv.imwrite(\"dog_save.png\",img) #save to lena_save.jpg\n",
    "cv.destroyAllWindows()\n"
   ]
  },
  {
   "cell_type": "code",
   "execution_count": null,
   "id": "73039bc5",
   "metadata": {},
   "outputs": [],
   "source": [
    "#Q2 method1: cv.show() called twice\n",
    "\n",
    "img = cv.imread(\"images/lena.jfif\")\n",
    "grayscale = cv.cvtColor(img,cv.COLOR_BGR2GRAY) #can also grayscale=0 at beginning learned\n",
    "\n",
    "cv.imshow(\"lena\",img)\n",
    "show_img(\"grayscale\",grayscale)"
   ]
  },
  {
   "cell_type": "code",
   "execution_count": null,
   "id": "0320a7fd",
   "metadata": {},
   "outputs": [],
   "source": [
    "#Q2 method 2: import external module\n",
    "#2 import external module=matplotib\n",
    "import matplotlib.pyplot as plt\n"
   ]
  },
  {
   "cell_type": "code",
   "execution_count": null,
   "id": "1876e025",
   "metadata": {},
   "outputs": [],
   "source": [
    "#need to change bgr to rbg\n",
    "img_rgb = cv.cvtColor(img,cv.COLOR_BGR2RGB)\n",
    "\n",
    "# 1:1row 2:2column #1:work on 1st figure\n",
    "plt.subplot(121)\n",
    "plt.imshow(img_rgb)\n",
    "plt.xticks([]),plt.yticks([]) # remove x and y\n",
    "\n",
    "plt.subplot(122)\n",
    "plt.imshow(grayscale,cmap=plt.cm.gray)\n",
    "plt.xticks([]),plt.yticks([])\n",
    "\n",
    "plt.suptitle(\"Color vs Grayscale\")\n",
    "plt.show()\n"
   ]
  },
  {
   "cell_type": "code",
   "execution_count": null,
   "id": "acf24846",
   "metadata": {},
   "outputs": [],
   "source": [
    "#Q2 method 3: concatenate (join array)\n",
    "#join colour and grayscale side by side, but make sure the dimension is consistent \n",
    "gray = cv.cvtColor(grayscale,cv.COLOR_GRAY2BGR)\n",
    "\n",
    "#combine img(color) and gray(grayscale) by horizontally stack them tgt\n",
    "#img_combined=np.hstack((img,gray))\n",
    "\n",
    "# axis=1 -> column\n",
    "img_combined=np.concatenate((img,gray),axis=1)\n",
    "show_img(\"joined\",img_combined)"
   ]
  },
  {
   "cell_type": "code",
   "execution_count": 35,
   "id": "007a6421",
   "metadata": {},
   "outputs": [],
   "source": [
    "#Q3\n",
    "#.mp4\n",
    "\n",
    "cap = cv.VideoCapture(\"videos/img_pexels.mp4\")\n",
    "\n",
    "if not cap.isOpened():\n",
    "    sys.exit(\"No video file found\")\n",
    "    \n",
    "cv.namedWindow(\"frame\",cv.WINDOW_NORMAL)    \n",
    "    \n",
    "fourcc = cv.VideoWriter_fourcc(*\"mp4v\")\n",
    "fps = 15\n",
    "w, h = int(cap.get(3))//2, int(cap.get(4))//2\n",
    "out = cv.VideoWriter(\"smaller_img_pexels.mp4\", fourcc, fps, (w, h))\n",
    "\n",
    "   \n",
    "while True:\n",
    "    ret, frame = cap.read()\n",
    "    \n",
    "    resized_frame = cv.resize(frame,(w,h))\n",
    "    if not ret:\n",
    "        print(\"No frame received!\")\n",
    "        break\n",
    "        \n",
    "    out.write(resized_frame)\n",
    "    cv.imshow(\"frame\",resized_frame)\n",
    "    \n",
    "    k=cv.waitKey(1) & 0xFF\n",
    "    if k == 27:\n",
    "        break\n",
    "        \n",
    "cap.release()\n",
    "out.release()\n",
    "cv.destroyAllWindows()"
   ]
  },
  {
   "cell_type": "code",
   "execution_count": 34,
   "id": "e704dee9",
   "metadata": {},
   "outputs": [],
   "source": [
    "#.avi\n",
    "\n",
    "cap = cv.VideoCapture(\"videos/img_pexels.mp4\")\n",
    "\n",
    "if not cap.isOpened():\n",
    "    sys.exit(\"No video file found\")\n",
    "    \n",
    "cv.namedWindow(\"frame\",cv.WINDOW_NORMAL)    \n",
    "    \n",
    "fourcc = cv.VideoWriter_fourcc (\"M\",\"J\",\"P\",\"G\")\n",
    "fps=15\n",
    "w, h = int(cap.get(3))//2, int(cap.get(4))//2\n",
    "out = cv.VideoWriter(\"smaller_img_pexels.avi\", fourcc, fps, (w, h))\n",
    "   \n",
    "while True:\n",
    "    ret, frame = cap.read()\n",
    "    \n",
    "    frame = cv.resize(frame,(w,h))\n",
    "    if not ret:\n",
    "        print(\"No frame received!\")\n",
    "        break\n",
    "        \n",
    "    out.write(frame)\n",
    "    cv.imshow(\"frame\",frame)\n",
    "    \n",
    "    k=cv.waitKey(1) & 0xFF\n",
    "    if k == 27:\n",
    "        break\n",
    "\n",
    "cap.release()\n",
    "out.release()\n",
    "cv.destroyAllWindows()"
   ]
  },
  {
   "cell_type": "code",
   "execution_count": 36,
   "id": "32352a8a",
   "metadata": {},
   "outputs": [],
   "source": [
    "#Q4\n",
    "\n",
    "# Load the image\n",
    "img = cv.imread(\"images/dog.jfif\")\n",
    "\n",
    "# Upscale using linear interpolation\n",
    "linear_image = cv.resize(img, None,fx=1.5, fy=1.5, interpolation=cv.INTER_LINEAR)\n",
    "cv.imshow(\"Linear Interpolation\", linear_image)\n",
    "cv.waitKey(0)    # key binding function: wait for user response\n",
    "cv.destroyAllWindows()\n",
    "\n",
    "# Upscale using cubic interpolation\n",
    "cubic_image = cv.resize(img, None, fx=1.5, fy=1.5, interpolation=cv.INTER_CUBIC)\n",
    "cv.imshow(\"Cubic Interpolation\", cubic_image)\n",
    "cv.waitKey(0)    # key binding function: wait for user response\n",
    "cv.destroyAllWindows()\n",
    "\n",
    "# Upscale using nearest neighbor interpolation\n",
    "nearest_image = cv.resize(img, None, fx=1.5, fy=1.5, interpolation=cv.INTER_NEAREST)\n",
    "cv.imshow(\"Nearest Neighbor Interpolation\", nearest_image)\n",
    "cv.waitKey(0)    # key binding function: wait for user response\n",
    "cv.destroyAllWindows()\n"
   ]
  }
 ],
 "metadata": {
  "kernelspec": {
   "display_name": "Python 3 (ipykernel)",
   "language": "python",
   "name": "python3"
  },
  "language_info": {
   "codemirror_mode": {
    "name": "ipython",
    "version": 3
   },
   "file_extension": ".py",
   "mimetype": "text/x-python",
   "name": "python",
   "nbconvert_exporter": "python",
   "pygments_lexer": "ipython3",
   "version": "3.11.4"
  }
 },
 "nbformat": 4,
 "nbformat_minor": 5
}
