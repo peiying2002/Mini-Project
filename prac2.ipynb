{
 "cells": [
  {
   "cell_type": "markdown",
   "id": "afeb9a11",
   "metadata": {},
   "source": [
    "# Basic syntax"
   ]
  },
  {
   "cell_type": "code",
   "execution_count": 11,
   "id": "175d1f97",
   "metadata": {},
   "outputs": [
    {
     "name": "stdout",
     "output_type": "stream",
     "text": [
      "Hello World\n"
     ]
    }
   ],
   "source": [
    "print (\"Hello World\")"
   ]
  },
  {
   "cell_type": "markdown",
   "id": "14263a46",
   "metadata": {},
   "source": [
    "# Custom function"
   ]
  },
  {
   "cell_type": "code",
   "execution_count": 12,
   "id": "ae70edc9",
   "metadata": {},
   "outputs": [],
   "source": [
    "def simple_add(x,y):\n",
    "    \"\"\"Addition of 2 numbers\n",
    "    \"\"\"\n",
    "    return(x+y)"
   ]
  },
  {
   "cell_type": "code",
   "execution_count": 13,
   "id": "acce191b",
   "metadata": {},
   "outputs": [
    {
     "data": {
      "text/plain": [
       "11"
      ]
     },
     "execution_count": 13,
     "metadata": {},
     "output_type": "execute_result"
    }
   ],
   "source": [
    "simple_add(2,9)"
   ]
  },
  {
   "cell_type": "code",
   "execution_count": 1,
   "id": "78b344a1",
   "metadata": {},
   "outputs": [],
   "source": [
    "def compare (x,y):\n",
    "    if x>y:\n",
    "        print(f\"{x} is greater than {y}\")\n",
    "    elif x<y:\n",
    "        print(f\"{x} is smaller than {y}\")\n",
    "    else:\n",
    "        print(f\"{x} is the same as {y}\")"
   ]
  },
  {
   "cell_type": "code",
   "execution_count": 2,
   "id": "6a5311c6",
   "metadata": {},
   "outputs": [
    {
     "name": "stdout",
     "output_type": "stream",
     "text": [
      "4 is smaller than 5\n"
     ]
    }
   ],
   "source": [
    "compare(4,5)"
   ]
  },
  {
   "cell_type": "markdown",
   "id": "7804216b",
   "metadata": {},
   "source": [
    "# data types\n",
    "1) integer\n",
    "2) floating point numbers\n",
    "3) string\n",
    "4) boolean\n",
    "5) complex number (beyond the scope of this course)"
   ]
  },
  {
   "cell_type": "code",
   "execution_count": 14,
   "id": "384e83f9",
   "metadata": {},
   "outputs": [],
   "source": [
    "x=5\n",
    "y=7.1\n",
    "z=1j\n",
    "z1=\"I am human\""
   ]
  },
  {
   "cell_type": "code",
   "execution_count": 18,
   "id": "2d7e4f10",
   "metadata": {},
   "outputs": [
    {
     "name": "stdout",
     "output_type": "stream",
     "text": [
      "<class 'int'>\n",
      "<class 'float'>\n",
      "<class 'complex'>\n",
      "<class 'str'>\n"
     ]
    }
   ],
   "source": [
    "print(type(x))\n",
    "print(type(y))\n",
    "print(type(z))\n",
    "print(type(z1))"
   ]
  },
  {
   "cell_type": "code",
   "execution_count": 19,
   "id": "6e21c983",
   "metadata": {},
   "outputs": [
    {
     "name": "stdout",
     "output_type": "stream",
     "text": [
      "0\n",
      "7.6\n"
     ]
    }
   ],
   "source": [
    "y=8/10\n",
    "z=\"7.6\"\n",
    "\n",
    "print(int(y))\n",
    "print(float(z))"
   ]
  },
  {
   "cell_type": "code",
   "execution_count": 21,
   "id": "eb74e627",
   "metadata": {},
   "outputs": [
    {
     "name": "stdout",
     "output_type": "stream",
     "text": [
      "['a', 'b', 'c']\n",
      "('a', 'b', 'c')\n"
     ]
    }
   ],
   "source": [
    "mylist = [\"a\",\"b\",\"c\"]\n",
    "print(mylist)\n",
    "\n",
    "mytuple = (\"a\",\"b\",\"c\")\n",
    "print(mytuple)"
   ]
  },
  {
   "cell_type": "code",
   "execution_count": 22,
   "id": "bc7cb0d1",
   "metadata": {},
   "outputs": [
    {
     "name": "stdout",
     "output_type": "stream",
     "text": [
      "[1, 'b', 'c']\n"
     ]
    }
   ],
   "source": [
    "mylist[0]=1\n",
    "print(mylist)"
   ]
  },
  {
   "cell_type": "code",
   "execution_count": 24,
   "id": "6b8325d6",
   "metadata": {},
   "outputs": [
    {
     "name": "stdout",
     "output_type": "stream",
     "text": [
      "Tuple is immutable\n"
     ]
    }
   ],
   "source": [
    "try:\n",
    "    mytuple[0]=1\n",
    "except:\n",
    "    print(\"Tuple is immutable\")"
   ]
  },
  {
   "cell_type": "code",
   "execution_count": 4,
   "id": "497ecdb6",
   "metadata": {
    "scrolled": true
   },
   "outputs": [
    {
     "name": "stdout",
     "output_type": "stream",
     "text": [
      "[1 2 3 4 5]\n",
      "<class 'numpy.ndarray'>\n"
     ]
    }
   ],
   "source": [
    "import numpy as np\n",
    "x=np.array([1,2,3,4,5])\n",
    "print(x)\n",
    "print(type(x))"
   ]
  },
  {
   "cell_type": "code",
   "execution_count": 12,
   "id": "684c9024",
   "metadata": {},
   "outputs": [],
   "source": [
    "import numpy as np"
   ]
  },
  {
   "cell_type": "code",
   "execution_count": 27,
   "id": "ae69e593",
   "metadata": {},
   "outputs": [
    {
     "name": "stdout",
     "output_type": "stream",
     "text": [
      "[1 2 3 4 5]\n",
      "<class 'numpy.ndarray'>\n"
     ]
    }
   ],
   "source": [
    "x=np.array([1,2,3,4,5])\n",
    "print(x)\n",
    "print(type(x))"
   ]
  },
  {
   "cell_type": "code",
   "execution_count": 28,
   "id": "f8cdb233",
   "metadata": {},
   "outputs": [
    {
     "name": "stdout",
     "output_type": "stream",
     "text": [
      "1\n",
      "5\n"
     ]
    }
   ],
   "source": [
    "print(x[0])\n",
    "print(x[-1])"
   ]
  },
  {
   "cell_type": "code",
   "execution_count": 29,
   "id": "3756e329",
   "metadata": {},
   "outputs": [
    {
     "name": "stdout",
     "output_type": "stream",
     "text": [
      "[ 1  2  3  4  5  6  7  8  9 10]\n"
     ]
    }
   ],
   "source": [
    "#concatenation\n",
    "x1=np.array([6,7,8,9,10])\n",
    "x_long=np.concatenate((x,x1),axis=None)\n",
    "print(x_long)"
   ]
  },
  {
   "cell_type": "code",
   "execution_count": 30,
   "id": "c0375437",
   "metadata": {},
   "outputs": [
    {
     "name": "stdout",
     "output_type": "stream",
     "text": [
      "The shape of variable x_long: (10,)\n"
     ]
    }
   ],
   "source": [
    "print(f\"The shape of variable x_long: {x_long.shape}\")"
   ]
  },
  {
   "cell_type": "code",
   "execution_count": 31,
   "id": "7eeda950",
   "metadata": {},
   "outputs": [
    {
     "name": "stdout",
     "output_type": "stream",
     "text": [
      "int32\n"
     ]
    }
   ],
   "source": [
    "print(x_long.dtype)"
   ]
  },
  {
   "cell_type": "code",
   "execution_count": 19,
   "id": "279c201a",
   "metadata": {},
   "outputs": [],
   "source": [
    "import matplotlib.pyplot as plt"
   ]
  },
  {
   "cell_type": "code",
   "execution_count": 33,
   "id": "f35f935f",
   "metadata": {},
   "outputs": [
    {
     "data": {
      "image/png": "[encoded data removed]",
      "text/plain": [
       "<Figure size 640x480 with 1 Axes>"
      ]
     },
     "metadata": {},
     "output_type": "display_data"
    }
   ],
   "source": [
    "#create a black 2D image (grayscale image)\n",
    "gray=np.zeros((200,200),dtype=\"uint8\")\n",
    "\n",
    "plt.imshow(gray,cmap=plt.cm.gray)\n",
    "plt.title(\"grayscale black image\")\n",
    "plt.xticks([]) , plt.yticks([])\n",
    "plt.show()"
   ]
  },
  {
   "cell_type": "code",
   "execution_count": 34,
   "id": "bd767053",
   "metadata": {},
   "outputs": [
    {
     "data": {
      "image/png": "[encoded data removed]",
      "text/plain": [
       "<Figure size 640x480 with 1 Axes>"
      ]
     },
     "metadata": {},
     "output_type": "display_data"
    }
   ],
   "source": [
    "# create a white image\n",
    "white=255*np.ones((200,200))\n",
    "white=np.uint8(white)\n",
    "\n",
    "plt.imshow(white,cmap = plt.cm.gray, vmin=0, vmax=255)\n",
    "plt.title(\"grayscale white image\")\n",
    "plt.xticks([]),plt.yticks([])\n",
    "plt.show()"
   ]
  },
  {
   "cell_type": "code",
   "execution_count": 36,
   "id": "4a98e80d",
   "metadata": {},
   "outputs": [
    {
     "data": {
      "image/png": "[encoded data removed]",
      "text/plain": [
       "<Figure size 640x480 with 1 Axes>"
      ]
     },
     "metadata": {},
     "output_type": "display_data"
    }
   ],
   "source": [
    "noise_color_img = np.random.randint(0,high=256,size=(100,100,3),dtype=np.uint8)\n",
    "\n",
    "plt.imshow(noise_color_img)\n",
    "plt.title(\"random noise color image\")\n",
    "plt.xticks([]),plt.yticks([])\n",
    "plt.show()"
   ]
  },
  {
   "cell_type": "markdown",
   "id": "bfaa023d",
   "metadata": {},
   "source": [
    "# Exercises:\n",
    "\n",
    "\n"
   ]
  },
  {
   "cell_type": "code",
   "execution_count": 6,
   "id": "34abd33c",
   "metadata": {},
   "outputs": [],
   "source": [
    "#Q1\n",
    "\n",
    "def OddEven(x):\n",
    "    if isinstance(x,int):\n",
    "        if(x%2==0):\n",
    "            if x==0:\n",
    "                statement = \" is neither odd or even number.\"\n",
    "            else:\n",
    "                statement = \" is even number.\"\n",
    "        else:\n",
    "            statement = \" is odd number.\"\n",
    "    else:\n",
    "        statement = \" is not an integer!\"\n",
    "    \n",
    "    return print(f\"{x}\" + statement)"
   ]
  },
  {
   "cell_type": "code",
   "execution_count": 7,
   "id": "e91945a9",
   "metadata": {},
   "outputs": [
    {
     "name": "stdout",
     "output_type": "stream",
     "text": [
      "0 is neither odd or even number.\n"
     ]
    }
   ],
   "source": [
    "OddEven(0)"
   ]
  },
  {
   "cell_type": "code",
   "execution_count": 8,
   "id": "9cbf9a25",
   "metadata": {},
   "outputs": [
    {
     "name": "stdout",
     "output_type": "stream",
     "text": [
      "0.9 is not an integer!\n"
     ]
    }
   ],
   "source": [
    "OddEven(0.9)"
   ]
  },
  {
   "cell_type": "code",
   "execution_count": 9,
   "id": "06685d98",
   "metadata": {},
   "outputs": [
    {
     "name": "stdout",
     "output_type": "stream",
     "text": [
      "12 is even number.\n"
     ]
    }
   ],
   "source": [
    "OddEven(12)"
   ]
  },
  {
   "cell_type": "code",
   "execution_count": 14,
   "id": "d53aa7a0",
   "metadata": {},
   "outputs": [],
   "source": [
    "#Q2 (numpy is more efficient in numerical computation than array)\n",
    "\n",
    "large_n =1e5  #100,000\n",
    "\n",
    "#create a list and numpy array\n",
    "numpy_arr = np.arange(large_n)\n",
    "list_arr = list(range(int(large_n)))"
   ]
  },
  {
   "cell_type": "code",
   "execution_count": 15,
   "id": "e0821b8a",
   "metadata": {},
   "outputs": [
    {
     "name": "stdout",
     "output_type": "stream",
     "text": [
      "99999.0\n",
      "99999\n"
     ]
    }
   ],
   "source": [
    "print (numpy_arr[-1])\n",
    "print(list_arr[-1])"
   ]
  },
  {
   "cell_type": "code",
   "execution_count": 16,
   "id": "a9001713",
   "metadata": {},
   "outputs": [
    {
     "name": "stdout",
     "output_type": "stream",
     "text": [
      "39.9 µs ± 1.32 µs per loop (mean ± std. dev. of 7 runs, 10,000 loops each)\n"
     ]
    }
   ],
   "source": [
    "%timeit res = numpy_arr *2 # array can straight away like this to access all and multiply"
   ]
  },
  {
   "cell_type": "code",
   "execution_count": 17,
   "id": "6df9f6b7",
   "metadata": {},
   "outputs": [
    {
     "name": "stdout",
     "output_type": "stream",
     "text": [
      "3.39 ms ± 166 µs per loop (mean ± std. dev. of 7 runs, 100 loops each)\n"
     ]
    }
   ],
   "source": [
    "%timeit res = [2*i for i in list_arr] # access all item in list then multiply"
   ]
  },
  {
   "cell_type": "code",
   "execution_count": 49,
   "id": "b11a8f15",
   "metadata": {},
   "outputs": [
    {
     "name": "stdout",
     "output_type": "stream",
     "text": [
      "[0 1 2 3 4 5 6 7 8 9]\n",
      "[ 0  1  2  3 25 25 25  7  8  9]\n",
      "[-1 25 25]\n",
      "[ 0  1  2  3 25 25 25  7  8  9]\n"
     ]
    }
   ],
   "source": [
    "#Q3 \n",
    "\n",
    "my_arr = np.arange(10)\n",
    "print(my_arr)\n",
    "\n",
    "my_arr[4:7] = 25\n",
    "print(my_arr)\n",
    "\n",
    "arr_slice = my_arr[4:7].copy()  # Make a copy of the slice\n",
    "arr_slice[0] = -1  # Modify the copy\n",
    "\n",
    "print(arr_slice)\n",
    "print(my_arr)  # my_arr remains unchanged\n"
   ]
  },
  {
   "cell_type": "code",
   "execution_count": 33,
   "id": "460b5212",
   "metadata": {},
   "outputs": [
    {
     "data": {
      "image/png": "[encoded data removed]",
      "text/plain": [
       "<Figure size 640x480 with 1 Axes>"
      ]
     },
     "metadata": {},
     "output_type": "display_data"
    }
   ],
   "source": [
    "#Q4\n",
    "\n",
    "# Create a blank image with all black pixels\n",
    "image = np.zeros((100,100))\n",
    "\n",
    "# Calculate the coordinates of the center\n",
    "center_x = 100 // 2\n",
    "center_y = 100 // 2\n",
    "\n",
    "# Set the radius of the circular spot\n",
    "radius = 100 // 4\n",
    "\n",
    "# Iterate over each pixel in the image\n",
    "for i in range(100):\n",
    "    for j in range(100):\n",
    "        # Calculate the distance between the pixel and the center\n",
    "        distance = np.sqrt((i - center_x)**2 + (j - center_y)**2)\n",
    "        \n",
    "        # Check if the distance is within the radius\n",
    "        if distance <= radius:\n",
    "            # Set the pixel value to white\n",
    "            image[i, j] = 1\n",
    "\n",
    "# Create a figure of the x-axis and y-axis\n",
    "#fig = plt.subplots()\n",
    "\n",
    "# Display the image\n",
    "#ax.imshow(image, cmap='gray')\n",
    "plt.imshow(image, cmap='gray')\n",
    "\n",
    "# Remove the axis ticks and labels\n",
    "plt.xticks([]),plt.yticks([])\n",
    "\n",
    "# Show the plot\n",
    "plt.show()"
   ]
  },
  {
   "cell_type": "code",
   "execution_count": null,
   "id": "d3dce95d",
   "metadata": {},
   "outputs": [],
   "source": []
  }
 ],
 "metadata": {
  "kernelspec": {
   "display_name": "Python 3 (ipykernel)",
   "language": "python",
   "name": "python3"
  },
  "language_info": {
   "codemirror_mode": {
    "name": "ipython",
    "version": 3
   },
   "file_extension": ".py",
   "mimetype": "text/x-python",
   "name": "python",
   "nbconvert_exporter": "python",
   "pygments_lexer": "ipython3",
   "version": "3.11.4"
  }
 },
 "nbformat": 4,
 "nbformat_minor": 5
}
